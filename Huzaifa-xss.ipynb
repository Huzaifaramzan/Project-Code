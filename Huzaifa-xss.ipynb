{
 "cells": [
  {
   "cell_type": "code",
   "execution_count": 25,
   "id": "04e87ed6",
   "metadata": {},
   "outputs": [],
   "source": [
    "import pandas as pd\n",
    "import numpy as np\n",
    "import matplotlib.pyplot as plt\n",
    "import seaborn as sns\n",
    "from sklearn.linear_model import LogisticRegression\n",
    "from sklearn.ensemble import RandomForestClassifier\n",
    "from sklearn.metrics import classification_report,confusion_matrix,accuracy_score\n",
    "from nltk.corpus import stopwords\n",
    "import keras\n",
    "from keras.models import Sequential\n",
    "from keras.layers import Dense\n",
    "from keras.layers import LeakyReLU,PReLU,ELU\n",
    "from keras.layers import Dropout"
   ]
  },
  {
   "cell_type": "code",
   "execution_count": 3,
   "id": "c4ca4387",
   "metadata": {},
   "outputs": [
    {
     "data": {
      "text/html": [
       "<div>\n",
       "<style scoped>\n",
       "    .dataframe tbody tr th:only-of-type {\n",
       "        vertical-align: middle;\n",
       "    }\n",
       "\n",
       "    .dataframe tbody tr th {\n",
       "        vertical-align: top;\n",
       "    }\n",
       "\n",
       "    .dataframe thead th {\n",
       "        text-align: right;\n",
       "    }\n",
       "</style>\n",
       "<table border=\"1\" class=\"dataframe\">\n",
       "  <thead>\n",
       "    <tr style=\"text-align: right;\">\n",
       "      <th></th>\n",
       "      <th>Unnamed: 0</th>\n",
       "      <th>Sentence</th>\n",
       "      <th>Label</th>\n",
       "    </tr>\n",
       "  </thead>\n",
       "  <tbody>\n",
       "    <tr>\n",
       "      <th>0</th>\n",
       "      <td>0</td>\n",
       "      <td>&lt;li&gt;&lt;a href=\"/wiki/File:Socrates.png\" class=\"i...</td>\n",
       "      <td>0</td>\n",
       "    </tr>\n",
       "    <tr>\n",
       "      <th>1</th>\n",
       "      <td>1</td>\n",
       "      <td>&lt;tt onmouseover=\"alert(1)\"&gt;test&lt;/tt&gt;</td>\n",
       "      <td>1</td>\n",
       "    </tr>\n",
       "    <tr>\n",
       "      <th>2</th>\n",
       "      <td>2</td>\n",
       "      <td>\\t &lt;/span&gt; &lt;span class=\"reference-text\"&gt;Steeri...</td>\n",
       "      <td>0</td>\n",
       "    </tr>\n",
       "    <tr>\n",
       "      <th>3</th>\n",
       "      <td>3</td>\n",
       "      <td>\\t &lt;/span&gt; &lt;span class=\"reference-text\"&gt;&lt;cite ...</td>\n",
       "      <td>0</td>\n",
       "    </tr>\n",
       "    <tr>\n",
       "      <th>4</th>\n",
       "      <td>4</td>\n",
       "      <td>\\t &lt;/span&gt;. &lt;a href=\"/wiki/Digital_object_iden...</td>\n",
       "      <td>0</td>\n",
       "    </tr>\n",
       "  </tbody>\n",
       "</table>\n",
       "</div>"
      ],
      "text/plain": [
       "   Unnamed: 0                                           Sentence  Label\n",
       "0           0  <li><a href=\"/wiki/File:Socrates.png\" class=\"i...      0\n",
       "1           1               <tt onmouseover=\"alert(1)\">test</tt>      1\n",
       "2           2  \\t </span> <span class=\"reference-text\">Steeri...      0\n",
       "3           3  \\t </span> <span class=\"reference-text\"><cite ...      0\n",
       "4           4  \\t </span>. <a href=\"/wiki/Digital_object_iden...      0"
      ]
     },
     "execution_count": 3,
     "metadata": {},
     "output_type": "execute_result"
    }
   ],
   "source": [
    "data=pd.read_csv(\"XSS_dataset.csv\")\n",
    "data.head()"
   ]
  },
  {
   "cell_type": "code",
   "execution_count": 4,
   "id": "e387eb35",
   "metadata": {},
   "outputs": [],
   "source": [
    " # Fetching sentences and labels\n",
    "    \n",
    "data=data[data.columns[-2:]] "
   ]
  },
  {
   "cell_type": "code",
   "execution_count": 5,
   "id": "34dde952",
   "metadata": {},
   "outputs": [
    {
     "data": {
      "text/html": [
       "<div>\n",
       "<style scoped>\n",
       "    .dataframe tbody tr th:only-of-type {\n",
       "        vertical-align: middle;\n",
       "    }\n",
       "\n",
       "    .dataframe tbody tr th {\n",
       "        vertical-align: top;\n",
       "    }\n",
       "\n",
       "    .dataframe thead th {\n",
       "        text-align: right;\n",
       "    }\n",
       "</style>\n",
       "<table border=\"1\" class=\"dataframe\">\n",
       "  <thead>\n",
       "    <tr style=\"text-align: right;\">\n",
       "      <th></th>\n",
       "      <th>Sentence</th>\n",
       "      <th>Label</th>\n",
       "    </tr>\n",
       "  </thead>\n",
       "  <tbody>\n",
       "    <tr>\n",
       "      <th>0</th>\n",
       "      <td>&lt;li&gt;&lt;a href=\"/wiki/File:Socrates.png\" class=\"i...</td>\n",
       "      <td>0</td>\n",
       "    </tr>\n",
       "    <tr>\n",
       "      <th>1</th>\n",
       "      <td>&lt;tt onmouseover=\"alert(1)\"&gt;test&lt;/tt&gt;</td>\n",
       "      <td>1</td>\n",
       "    </tr>\n",
       "    <tr>\n",
       "      <th>2</th>\n",
       "      <td>\\t &lt;/span&gt; &lt;span class=\"reference-text\"&gt;Steeri...</td>\n",
       "      <td>0</td>\n",
       "    </tr>\n",
       "    <tr>\n",
       "      <th>3</th>\n",
       "      <td>\\t &lt;/span&gt; &lt;span class=\"reference-text\"&gt;&lt;cite ...</td>\n",
       "      <td>0</td>\n",
       "    </tr>\n",
       "    <tr>\n",
       "      <th>4</th>\n",
       "      <td>\\t &lt;/span&gt;. &lt;a href=\"/wiki/Digital_object_iden...</td>\n",
       "      <td>0</td>\n",
       "    </tr>\n",
       "  </tbody>\n",
       "</table>\n",
       "</div>"
      ],
      "text/plain": [
       "                                            Sentence  Label\n",
       "0  <li><a href=\"/wiki/File:Socrates.png\" class=\"i...      0\n",
       "1               <tt onmouseover=\"alert(1)\">test</tt>      1\n",
       "2  \\t </span> <span class=\"reference-text\">Steeri...      0\n",
       "3  \\t </span> <span class=\"reference-text\"><cite ...      0\n",
       "4  \\t </span>. <a href=\"/wiki/Digital_object_iden...      0"
      ]
     },
     "execution_count": 5,
     "metadata": {},
     "output_type": "execute_result"
    }
   ],
   "source": [
    "data.head()"
   ]
  },
  {
   "cell_type": "code",
   "execution_count": 10,
   "id": "6ab50daa",
   "metadata": {},
   "outputs": [
    {
     "name": "stdout",
     "output_type": "stream",
     "text": [
      "The fetched sentence is: <li id=\"cite_note-118\"><span class=\"mw-cite-backlink\"><b><a href=\"#cite_ref-118\">^ </a> </b> \n",
      "The length of sentence is: 13686\n"
     ]
    }
   ],
   "source": [
    "# Fetching sentences from the data\n",
    "\n",
    "data_sentence=data['Sentence'].values\n",
    "print(\"The fetched sentence is:\",data_sentence[5])\n",
    "\n",
    "print(\"The length of sentence is:\",len(data_sentence))"
   ]
  },
  {
   "cell_type": "code",
   "execution_count": 16,
   "id": "ce7a5d58",
   "metadata": {},
   "outputs": [
    {
     "data": {
      "application/javascript": [
       "\n",
       "        if (window._pyforest_update_imports_cell) { window._pyforest_update_imports_cell('from sklearn.model_selection import train_test_split'); }\n",
       "    "
      ],
      "text/plain": [
       "<IPython.core.display.Javascript object>"
      ]
     },
     "metadata": {},
     "output_type": "display_data"
    }
   ],
   "source": [
    "X=data['Sentence']\n",
    "y=data['Label']\n",
    "# Balancing the dataset\n",
    "\n",
    "# sm = SMOTE()\n",
    "# X, y = sm.fit_resample(X, y)\n",
    "\n",
    "# # Standardizing the values in dataset\n",
    "\n",
    "# scaler = StandardScaler()\n",
    "# X = scaler.fit_transform(X)\n",
    "# Splitting the training and testing dataset\n",
    "\n",
    "X_train, X_test, y_train, y_test = train_test_split(X, y, test_size=0.2, random_state=42)"
   ]
  },
  {
   "cell_type": "code",
   "execution_count": 18,
   "id": "a39c0664",
   "metadata": {},
   "outputs": [
    {
     "name": "stderr",
     "output_type": "stream",
     "text": [
      "[nltk_data] Downloading package stopwords to\n",
      "[nltk_data]     C:\\Users\\sunit\\AppData\\Roaming\\nltk_data...\n",
      "[nltk_data]   Package stopwords is already up-to-date!\n"
     ]
    },
    {
     "data": {
      "text/plain": [
       "True"
      ]
     },
     "execution_count": 18,
     "metadata": {},
     "output_type": "execute_result"
    }
   ],
   "source": [
    "import nltk\n",
    "\n",
    "nltk.download('stopwords')"
   ]
  },
  {
   "cell_type": "code",
   "execution_count": 21,
   "id": "1734d53b",
   "metadata": {},
   "outputs": [
    {
     "data": {
      "application/javascript": [
       "\n",
       "        if (window._pyforest_update_imports_cell) { window._pyforest_update_imports_cell('from sklearn.feature_extraction.text import CountVectorizer\\nfrom sklearn.model_selection import train_test_split'); }\n",
       "    "
      ],
      "text/plain": [
       "<IPython.core.display.Javascript object>"
      ]
     },
     "metadata": {},
     "output_type": "display_data"
    },
    {
     "data": {
      "application/javascript": [
       "\n",
       "        if (window._pyforest_update_imports_cell) { window._pyforest_update_imports_cell('from sklearn.feature_extraction.text import CountVectorizer\\nfrom sklearn.model_selection import train_test_split'); }\n",
       "    "
      ],
      "text/plain": [
       "<IPython.core.display.Javascript object>"
      ]
     },
     "metadata": {},
     "output_type": "display_data"
    },
    {
     "name": "stdout",
     "output_type": "stream",
     "text": [
      "(10948, 5640)\n",
      "(10948,)\n",
      "(2738, 5640)\n",
      "(2738,)\n"
     ]
    }
   ],
   "source": [
    "vectorizer = CountVectorizer(min_df = 2, max_df = 0.8, stop_words = stopwords.words('english'))\n",
    "X = vectorizer.fit_transform(X.values.astype('U')).toarray()\n",
    "\n",
    "X_train, X_test, y_train, y_test = train_test_split(X, y, test_size = 0.2, random_state=1)\n",
    "print(X_train.shape)\n",
    "print(y_train.shape)\n",
    "print(X_test.shape)\n",
    "print(y_test.shape)"
   ]
  },
  {
   "cell_type": "markdown",
   "id": "36c42c57",
   "metadata": {},
   "source": [
    "### Logistic regression model"
   ]
  },
  {
   "cell_type": "code",
   "execution_count": 22,
   "id": "214fe20e",
   "metadata": {},
   "outputs": [
    {
     "name": "stdout",
     "output_type": "stream",
     "text": [
      "Accuracy of logistic regression classifier model is: 99.85390796201608\n",
      "[[1297    1]\n",
      " [   3 1437]]\n",
      "              precision    recall  f1-score   support\n",
      "\n",
      "           0       1.00      1.00      1.00      1298\n",
      "           1       1.00      1.00      1.00      1440\n",
      "\n",
      "    accuracy                           1.00      2738\n",
      "   macro avg       1.00      1.00      1.00      2738\n",
      "weighted avg       1.00      1.00      1.00      2738\n",
      "\n"
     ]
    },
    {
     "data": {
      "image/png": "[encoded data removed]",
      "text/plain": [
       "<Figure size 432x288 with 2 Axes>"
      ]
     },
     "metadata": {
      "needs_background": "light"
     },
     "output_type": "display_data"
    }
   ],
   "source": [
    "LR_model = LogisticRegression()\n",
    "LR_model.fit(X_train, y_train)\n",
    "\n",
    "y_pred_LR = LR_model.predict(X_test)\n",
    "print('Accuracy of logistic regression classifier model is:', accuracy_score(y_test,y_pred_LR)*100)\n",
    "\n",
    "print(confusion_matrix(y_test,y_pred_LR))\n",
    "sns.heatmap(confusion_matrix(y_test,y_pred_LR),annot=True)\n",
    "\n",
    "print(classification_report(y_test,y_pred_LR))"
   ]
  },
  {
   "cell_type": "markdown",
   "id": "4abe5876",
   "metadata": {},
   "source": [
    "### Random Forest model"
   ]
  },
  {
   "cell_type": "code",
   "execution_count": 23,
   "id": "cc1ade8a",
   "metadata": {},
   "outputs": [
    {
     "name": "stdout",
     "output_type": "stream",
     "text": [
      "Accuracy of Random Forest classifier model is: 99.89043097151206\n",
      "[[1297    1]\n",
      " [   2 1438]]\n",
      "              precision    recall  f1-score   support\n",
      "\n",
      "           0       1.00      1.00      1.00      1298\n",
      "           1       1.00      1.00      1.00      1440\n",
      "\n",
      "    accuracy                           1.00      2738\n",
      "   macro avg       1.00      1.00      1.00      2738\n",
      "weighted avg       1.00      1.00      1.00      2738\n",
      "\n"
     ]
    },
    {
     "data": {
      "image/png": "[encoded data removed]",
      "text/plain": [
       "<Figure size 432x288 with 2 Axes>"
      ]
     },
     "metadata": {
      "needs_background": "light"
     },
     "output_type": "display_data"
    }
   ],
   "source": [
    "RF_model=RandomForestClassifier()\n",
    "RF_model.fit(X_train,y_train)\n",
    "\n",
    "y_pred_RF=RF_model.predict(X_test)\n",
    "\n",
    "print('Accuracy of Random Forest classifier model is:', accuracy_score(y_test,y_pred_RF)*100)\n",
    "\n",
    "print(confusion_matrix(y_test,y_pred_RF))\n",
    "sns.heatmap(confusion_matrix(y_test,y_pred_RF),annot=True)\n",
    "\n",
    "print(classification_report(y_test,y_pred_RF))"
   ]
  },
  {
   "cell_type": "markdown",
   "id": "a41b2742",
   "metadata": {},
   "source": [
    "### CNN model"
   ]
  },
  {
   "cell_type": "code",
   "execution_count": 30,
   "id": "ed44076d",
   "metadata": {},
   "outputs": [
    {
     "name": "stdout",
     "output_type": "stream",
     "text": [
      "Model: \"sequential_2\"\n",
      "_________________________________________________________________\n",
      " Layer (type)                Output Shape              Param #   \n",
      "=================================================================\n",
      " dense_6 (Dense)             (None, 9)                 50769     \n",
      "                                                                 \n",
      " dense_7 (Dense)             (None, 9)                 90        \n",
      "                                                                 \n",
      " dense_8 (Dense)             (None, 1)                 10        \n",
      "                                                                 \n",
      "=================================================================\n",
      "Total params: 50,869\n",
      "Trainable params: 50,869\n",
      "Non-trainable params: 0\n",
      "_________________________________________________________________\n"
     ]
    }
   ],
   "source": [
    "classifier = Sequential() \n",
    "\n",
    "classifier.add(Dense(units = 9, kernel_initializer = 'he_uniform', activation = 'relu', input_dim = 5640))\n",
    "classifier.add(Dense(units = 9, kernel_initializer = 'he_uniform', activation = 'relu'))\n",
    "classifier.add(Dense(units = 1, kernel_initializer = 'glorot_uniform', activation = 'sigmoid'))\n",
    "classifier.summary()"
   ]
  },
  {
   "cell_type": "code",
   "execution_count": 31,
   "id": "c611af79",
   "metadata": {},
   "outputs": [
    {
     "name": "stdout",
     "output_type": "stream",
     "text": [
      "Epoch 1/20\n",
      "1095/1095 [==============================] - 2s 1ms/step - loss: 0.0848 - accuracy: 0.9803\n",
      "Epoch 2/20\n",
      "1095/1095 [==============================] - 1s 1ms/step - loss: 0.0069 - accuracy: 0.9982\n",
      "Epoch 3/20\n",
      "1095/1095 [==============================] - 1s 1ms/step - loss: 0.0039 - accuracy: 0.9987\n",
      "Epoch 4/20\n",
      "1095/1095 [==============================] - 1s 1ms/step - loss: 0.0027 - accuracy: 0.9993\n",
      "Epoch 5/20\n",
      "1095/1095 [==============================] - 1s 1ms/step - loss: 0.0021 - accuracy: 0.9995\n",
      "Epoch 6/20\n",
      "1095/1095 [==============================] - 1s 1ms/step - loss: 0.0017 - accuracy: 0.9997\n",
      "Epoch 7/20\n",
      "1095/1095 [==============================] - 1s 1ms/step - loss: 0.0017 - accuracy: 0.9997\n",
      "Epoch 8/20\n",
      "1095/1095 [==============================] - 1s 1ms/step - loss: 0.0015 - accuracy: 0.9997\n",
      "Epoch 9/20\n",
      "1095/1095 [==============================] - 1s 1ms/step - loss: 0.0015 - accuracy: 0.9997\n",
      "Epoch 10/20\n",
      "1095/1095 [==============================] - 1s 1ms/step - loss: 0.0016 - accuracy: 0.9997\n",
      "Epoch 11/20\n",
      "1095/1095 [==============================] - 1s 1ms/step - loss: 0.0015 - accuracy: 0.9997\n",
      "Epoch 12/20\n",
      "1095/1095 [==============================] - 1s 1ms/step - loss: 0.0015 - accuracy: 0.9997\n",
      "Epoch 13/20\n",
      "1095/1095 [==============================] - 1s 1ms/step - loss: 0.0015 - accuracy: 0.9997\n",
      "Epoch 14/20\n",
      "1095/1095 [==============================] - 1s 1ms/step - loss: 0.0015 - accuracy: 0.9997\n",
      "Epoch 15/20\n",
      "1095/1095 [==============================] - 1s 1ms/step - loss: 0.0016 - accuracy: 0.9997\n",
      "Epoch 16/20\n",
      "1095/1095 [==============================] - 1s 1ms/step - loss: 0.0015 - accuracy: 0.9997\n",
      "Epoch 17/20\n",
      "1095/1095 [==============================] - 1s 1ms/step - loss: 0.0015 - accuracy: 0.9997\n",
      "Epoch 18/20\n",
      "1095/1095 [==============================] - 2s 1ms/step - loss: 0.0015 - accuracy: 0.9997\n",
      "Epoch 19/20\n",
      "1095/1095 [==============================] - 1s 1ms/step - loss: 0.0015 - accuracy: 0.9997\n",
      "Epoch 20/20\n",
      "1095/1095 [==============================] - 1s 1ms/step - loss: 0.0015 - accuracy: 0.9997\n"
     ]
    }
   ],
   "source": [
    "classifier.compile(optimizer='adam',loss='binary_crossentropy',metrics=['accuracy'])\n",
    "model=classifier.fit(X_train, y_train, batch_size = 10, epochs = 20)"
   ]
  },
  {
   "cell_type": "code",
   "execution_count": 39,
   "id": "9eccfc36",
   "metadata": {},
   "outputs": [
    {
     "name": "stdout",
     "output_type": "stream",
     "text": [
      "86/86 [==============================] - 0s 1ms/step\n",
      "dict_keys(['loss', 'accuracy'])\n"
     ]
    },
    {
     "data": {
      "image/png": "[encoded data removed]",
      "text/plain": [
       "<Figure size 432x288 with 1 Axes>"
      ]
     },
     "metadata": {
      "needs_background": "light"
     },
     "output_type": "display_data"
    },
    {
     "data": {
      "image/png": "[encoded data removed]",
      "text/plain": [
       "<Figure size 432x288 with 1 Axes>"
      ]
     },
     "metadata": {
      "needs_background": "light"
     },
     "output_type": "display_data"
    }
   ],
   "source": [
    "y_pred_cnn = classifier.predict(X_test)\n",
    "print(model.history.keys())\n",
    "\n",
    "plt.plot(model.history[\"loss\"], label =\" Loss\")\n",
    "plt.legend()\n",
    "plt.title('model loss')\n",
    "plt.show()\n",
    "plt.figure()\n",
    "plt.plot(model.history[\"accuracy\"], label =\" Accuracy\")\n",
    "plt.legend()\n",
    "plt.title('model accuracy')\n",
    "plt.show()"
   ]
  },
  {
   "cell_type": "code",
   "execution_count": null,
   "id": "9f0ffc8b",
   "metadata": {},
   "outputs": [],
   "source": []
  }
 ],
 "metadata": {
  "kernelspec": {
   "display_name": "Python 3",
   "language": "python",
   "name": "python3"
  },
  "language_info": {
   "codemirror_mode": {
    "name": "ipython",
    "version": 3
   },
   "file_extension": ".py",
   "mimetype": "text/x-python",
   "name": "python",
   "nbconvert_exporter": "python",
   "pygments_lexer": "ipython3",
   "version": "3.9.5"
  }
 },
 "nbformat": 4,
 "nbformat_minor": 5
}
